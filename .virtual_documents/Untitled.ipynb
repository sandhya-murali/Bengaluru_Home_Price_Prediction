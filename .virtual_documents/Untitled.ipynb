!pip install pandas numpy


import pandas as pd
import numpy as np
from matplotlib import pyplot as plt
%matplotlib inline
import matplotlib
matplotlib.rcParams["figure.figsize"] = (20,10)


df = pd.read_csv("Bengaluru_House_Data.csv")
df.head()


df.drop(['availability','society','area_type','balcony'],axis='columns', inplace=True)


df.head()


df.isnull().sum()


df1 = df.dropna()
df1.isnull().sum()


df1['size'].unique()


df1['bhk'] = df1['size'].apply(lambda x: x.split(' ')[0])
df1.head()


df1.drop(['size'], axis = 'columns', inplace= True)
df1.head()


df1['total_sqft'].unique()


def isfloat(x):
    try:
        float(x)
    except:
        return False
    return True


df1[~df1['total_sqft'].apply(isfloat)].head()


def total_sqft_conv(x):
    tokens = x.split('-')
    if len(tokens)==2:
        return (float(tokens[0])+float(tokens[1]))/2
    try:
        return float(x)
    except:
        return None


df2 = df1.copy()
df2['total_sqft']=df1['total_sqft'].apply(total_sqft_conv)
df2.head()


df2.isnull().sum()


df2.dropna(inplace=True)


df2.isnull().sum()





df3 = df2.copy()
df3['price_per_sqft'] = df3.price * 100000 / df3.total_sqft
df3.head()


len(df3.location.unique())


location_above_10 = df3.location.value_counts()
location_above_10 = location_above_10[location_above_10>10]
location_above_10


df3.location = df3.location.apply(lambda x: x if x in location_above_10 else "other")
df3.head()


len(df3.location.unique())





df3.dtypes


df3['bhk'] = pd.to_numeric(df3.bhk, errors='coerce')
df3.dtypes


df3[df3.total_sqft/df3.bhk<300]


df4 = df3[~(df3.total_sqft/df3.bhk<300)]
df4.shape


df4.price_per_sqft.describe()


def remove_pps_outliers(df):
    df_out = pd.DataFrame()
    for key, subdf in df.groupby('location'):
        m = np.mean(subdf.price_per_sqft)
        st = np.std(subdf.price_per_sqft)
        subdf = subdf[(subdf.price_per_sqft<=(m+st)) & (subdf.price_per_sqft>=(m-st))]
        df_out = pd.concat([df_out, subdf], ignore_index=True)
    return df_out
df5 = remove_pps_outliers(df4)
df5.shape


def plot_scatter_chart(df,location):
    bhk2 = df[(df.location==location) & (df.bhk==2)]
    bhk3 = df[(df.location==location) & (df.bhk==3)]
    matplotlib.rcParams['figure.figsize'] = (15,10)
    plt.scatter(bhk2.total_sqft,bhk2.price,color='blue',label='2 BHK', s=50)
    plt.scatter(bhk3.total_sqft,bhk3.price,marker='+', color='green',label='3 BHK', s=50)
    plt.xlabel("Total Square Feet Area")
    plt.ylabel("Price (Lakh Indian Rupees)")
    plt.title(location)
    plt.legend()
    plt.show()
plot_scatter_chart(df5,"Rajaji Nagar")


plot_scatter_chart(df5,"Hebbal")


def remove_bhk_outliers(df):
    exclude_indices = np.array([])
    for location, location_df in df.groupby('location'):
        bhk_stats = {}
        for bhk, bhk_df in location_df.groupby('bhk'):
            bhk_stats[bhk] = {
                'mean': np.mean(bhk_df.price_per_sqft),
                'std': np.std(bhk_df.price_per_sqft),
                'count': bhk_df.shape[0]
            }
        for bhk, bhk_df in location_df.groupby('bhk'):
            stats = bhk_stats.get(bhk-1)
            if stats and stats['count']>5:
                exclude_indices = np.append(exclude_indices, bhk_df[bhk_df.price_per_sqft<(stats['mean'])].index.values)
    return df.drop(exclude_indices,axis='index')
df6 = remove_bhk_outliers(df5)
df6.shape


plot_scatter_chart(df6,"Rajaji Nagar")


plot_scatter_chart(df6,"Hebbal")


df6[df6.bath>10]


df6[df6.bath>df6.bhk+2]


df7 = df6[df6.bath<df6.bhk+2]
df7.shape


df8 = df7.drop(['price_per_sqft'], axis = 'columns')
df8 = df8.reset_index(drop=True)
df8.head()



dummies = pd.get_dummies(df8.location, dtype=int)
dummies.head()


dummies = dummies.drop('other', axis = 'columns')
df9 = pd.concat([df8, dummies], axis = 'columns')
df9.head()


df9 = df9.drop('location', axis = 'columns')
df9.head()





X = df9.drop('price', axis = 'columns')
X.head()


y = df9.price
y.head()


from sklearn.model_selection import train_test_split
X_train, X_test, y_train, y_test = train_test_split(X, y, test_size = 0.2, random_state=0)


from sklearn.linear_model import LinearRegression
lr_clf = LinearRegression()
lr_clf.fit(X_train, y_train)
lr_clf.score(X_test, y_test)


from sklearn.model_selection import ShuffleSplit
from sklearn.model_selection import cross_val_score

cv = ShuffleSplit(n_splits=5, test_size=0.2, random_state=0)

cross_val_score(LinearRegression(), X, y, cv=cv)


def predict_price(location,sqft,bath,bhk):
    loc_index = np.where(X.columns == location)[0][0]
    x = np.zeros(len(X.columns))
    x[0] = sqft
    x[1] = bath
    x[2] = bhk
    if loc_index>=0:
        x[loc_index]=1
    x_df = pd.DataFrame([x], columns=X.columns)
    return lr_clf.predict(x_df)[0]


predict_price('Indira Nagar', 1000,2,2)


import pickle
with open('banglore_home_prediction_model.pickle','wb') as f:
    pickle.dump(lr_clf,f)


import json
columns = {
    'data_columns' : [col.lower() for col in X.columns]
}
with open('columns.json','w') as f:
    f.write(json.dumps(columns)



